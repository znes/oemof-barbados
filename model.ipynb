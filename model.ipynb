{
 "cells": [
  {
   "cell_type": "markdown",
   "metadata": {},
   "source": [
    "# oemof tabular"
   ]
  },
  {
   "cell_type": "code",
   "execution_count": 191,
   "metadata": {},
   "outputs": [],
   "source": [
    "import os\n",
    "import pkg_resources as pkg\n",
    "import pandas as pd\n",
    "import numpy as np \n",
    "import math\n",
    "\n",
    "from pyomo.opt import SolverFactory\n",
    "import pyomo.environ as po \n",
    "from oemof.solph import EnergySystem, Model, Bus\n",
    "from oemof.tools.economics import annuity as annuity\n",
    "from oemof.solph import constraints\n",
    "import oemof.tabular.tools.postprocessing as pp\n",
    "import oemof.tabular.facades as fc"
   ]
  },
  {
   "cell_type": "code",
   "execution_count": 192,
   "metadata": {},
   "outputs": [],
   "source": [
    "scenario = \"ELEC\" # name of the scenario and the corresponding file, e.g. \"A.xls\"\n",
    "carrier_scenario = \"base\"\n",
    "tech_scenario = \"base\"\n",
    "\n",
    "country = \"barbados\""
   ]
  },
  {
   "cell_type": "markdown",
   "metadata": {},
   "source": [
    "## Creating and Setting the Datapaths"
   ]
  },
  {
   "cell_type": "markdown",
   "metadata": {},
   "source": [
    "First, the datapath for raw-data and results is set. Data handling looks more complex than it is. You can easily adapt this to a simple `pd.read_excel(filepath,...)` in the next block if your file is located somewhere else. Otherwise we will use data from the repository repository. \n",
    "\n",
    "In addition a results directory will be created in `home/user/oemof-results/results/<scenario-name>/output`. "
   ]
  },
  {
   "cell_type": "code",
   "execution_count": 193,
   "metadata": {},
   "outputs": [],
   "source": [
    "# datapath for input data from the oemof tabular pacakge\n",
    "datapath = os.path.join(\n",
    "    os.getcwd(),#pkg.resource_filename(\"oemof.jordan\", \"\"),\n",
    "    \"scenarios\", \n",
    "    scenario + \".xls\",\n",
    ")\n",
    "\n",
    "carrier_technology_path = os.path.join(\n",
    "    os.getcwd(), \n",
    "    \"scenarios\",\n",
    "    \"carrier-technology.xls\"\n",
    ")\n",
    "\n",
    "# results path\n",
    "results_path = os.path.join(\n",
    "    os.path.expanduser(\"~\"), \"oemof-results\", country,\n",
    ")\n",
    "\n",
    "scenario_path = os.path.join(\n",
    "    results_path, (\"-\").join([scenario])#, carrier_scenario, tech_scenario])\n",
    ")\n",
    "\n",
    "if not os.path.exists(scenario_path):\n",
    "    os.makedirs(scenario_path)"
   ]
  },
  {
   "cell_type": "markdown",
   "metadata": {},
   "source": [
    "Next the required input data will be read. The profiles index will be used for the `EnergySystem` object below. \n",
    "All generator data etc. will also be loaded. "
   ]
  },
  {
   "cell_type": "code",
   "execution_count": 194,
   "metadata": {},
   "outputs": [],
   "source": [
    "file = pd.ExcelFile(datapath)\n",
    "\n",
    "\n",
    "technology = pd.read_excel(\n",
    "    carrier_technology_path, sheet_name=\"technology-data\", index_col=[0, 1, 2]\n",
    ")\n",
    "carrier = pd.read_excel(\n",
    "    carrier_technology_path, sheet_name=\"carrier\", index_col=[0, 1]\n",
    ")\n",
    "\n",
    "sheet_names = [typ for typ in file.sheet_names if typ in fc.TYPEMAP.keys()]\n",
    "\n",
    "\n",
    "data = {}\n",
    "\n",
    "for sheet in sheet_names: \n",
    "    data[sheet]= pd.read_excel(datapath, sheet_name=sheet, index_col=0)\n",
    "    # add effiency if not set \n",
    "    if \"efficiency\" in data[sheet].columns:\n",
    "        eta = []\n",
    "        for _, row in data[sheet].iterrows():\n",
    "            if math.isnan(row[\"efficiency\"]):\n",
    "                eta.append(\n",
    "                    technology.to_dict()[\"efficiency\"].get((row[\"carrier\"], row[\"tech\"], tech_scenario), \n",
    "                                                          float(\"nan\")))\n",
    "            else:\n",
    "                eta.append(row[\"efficiency\"])\n",
    "        data[sheet][\"efficiency\"] = eta\n",
    "\n",
    "# profiles and tech data not be part of TYPEMAP and need to be read seperately\n",
    "profiles = pd.read_excel(\n",
    "    datapath,\n",
    "    sheet_name=\"profiles\",\n",
    "    index_col=[0],\n",
    "    parse_dates=True,\n",
    ")\n",
    "profiles.index.freq = \"1H\"\n",
    "\n",
    "\n",
    "\n",
    "if \"co2-limit\" in file.sheet_names:\n",
    "    co2_limit = pd.read_excel(datapath, sheet_name=\"co2-limit\", index_col=0)\n",
    "else: \n",
    "    co2_limit = None\n"
   ]
  },
  {
   "cell_type": "code",
   "execution_count": 195,
   "metadata": {},
   "outputs": [],
   "source": [
    "all_components = pd.concat([v for k, v in data.items() if k not in [\"bus\", \"co2-limit\"]], sort=False)\n",
    "# Only be used for Latex export of tables \n",
    "#columns = ['profile', 'capacity_potential']\n",
    "#print(all_components.to_latex(columns=columns, na_rep=\"-\"))"
   ]
  },
  {
   "cell_type": "code",
   "execution_count": 196,
   "metadata": {},
   "outputs": [],
   "source": [
    "def _capacity_cost(g, tech_scenario=tech_scenario):\n",
    "    if bool(g[\"expandable\"]):\n",
    "        val = annuity(\n",
    "            technology.at[(g[\"carrier\"], g[\"tech\"], tech_scenario), \"capex\"], \n",
    "            technology.at[(g[\"carrier\"], g[\"tech\"], tech_scenario), \"lifetime\"],\n",
    "            technology.at[(g[\"carrier\"], g[\"tech\"], tech_scenario), \"wacc\"]) * (\n",
    "            (1 + (technology.at[(g[\"carrier\"], g[\"tech\"], tech_scenario), \"fom\"])\n",
    "            )) \n",
    "        return val * 1000 # $/kw -> $/MW\n",
    "    else:\n",
    "        return None\n",
    "    \n",
    "def _marginal_cost(g, tech_scenario, carrier_scenario):\n",
    "    if not isinstance(g, dict):\n",
    "        g = g.to_dict()\n",
    "    if not pd.isna(g.get(\"marginal_cost\", np.nan)):\n",
    "        return g[\"marginal_cost\"]\n",
    "    else:\n",
    "        return (\n",
    "            (carrier.at[(g[\"carrier\"], carrier_scenario), \"cost\"] / \n",
    "             technology.at[(g[\"carrier\"], g[\"tech\"], tech_scenario), \"efficiency\"]) + \n",
    "            technology.at[(g[\"carrier\"], g[\"tech\"], tech_scenario), \"vom\"]\n",
    "            )\n",
    "    \n",
    "def _none(number):\n",
    "    if pd.isna(number):\n",
    "        return None\n",
    "    else:\n",
    "        return number\n",
    "    \n",
    "def _write_investment_cost(scenario_path):\n",
    "    invest_e = {}\n",
    "    invest_p = {}\n",
    "    for n in es.nodes: \n",
    "        if hasattr(n, \"storage_capacity_cost\"):\n",
    "            if n.storage_capacity_cost is not None:\n",
    "                invest_e[n.label] = (n.storage_capacity_cost, m.results[n, None][\"scalars\"][\"invest\"])\n",
    "                invest_p[n.label] = (n.capacity_cost, m.results[es.groups[\"BB-electricity\"], n][\"scalars\"][\"invest\"])\n",
    "        elif hasattr(n, \"capacity_cost\"):\n",
    "            if n.capacity_cost is not None:\n",
    "                invest_p[n.label] = (n.capacity_cost, m.results[n, es.groups[\"BB-electricity\"]][\"scalars\"][\"invest\"])\n",
    "\n",
    "        pd.DataFrame(invest_e, index=[\"$/MWha\", \"MWh\"]).to_csv(\n",
    "            os.path.join(scenario_path, \"investment_energy.csv\"))\n",
    "        pd.DataFrame(invest_p, index=[\"$/MWa\", \"MW\"]).to_csv(\n",
    "            os.path.join(scenario_path, \"investment_power.csv\"))"
   ]
  },
  {
   "cell_type": "markdown",
   "metadata": {},
   "source": [
    "## Creating the EnergySystem and its Nodes\n",
    "\n",
    "Firs, an `EnergySystem` object will be created. This holds all information (nodes, etc.) of the modelled energy system that will be added below. This is just the standard way of using the `oemof.solph` library for your modelling."
   ]
  },
  {
   "cell_type": "code",
   "execution_count": 197,
   "metadata": {},
   "outputs": [],
   "source": [
    "es = EnergySystem(timeindex=profiles.index)"
   ]
  },
  {
   "cell_type": "markdown",
   "metadata": {},
   "source": [
    "### Buses\n",
    "\n",
    "Before any components are added, all bus objects are added tothe energy system object."
   ]
  },
  {
   "cell_type": "code",
   "execution_count": 198,
   "metadata": {},
   "outputs": [],
   "source": [
    "buses = {\n",
    "    name: Bus(label=name, balanced=bool(arg.balanced))\n",
    "    for name, arg in data[\"bus\"].iterrows()\n",
    "}\n",
    "es.add(*buses.values())\n"
   ]
  },
  {
   "cell_type": "markdown",
   "metadata": {},
   "source": [
    "#### Bus Constraints \n",
    "\n",
    "With the set of all Buses $B$ all inputs $x^{flow}_{i(b),b}$ to a bus $b$ must equal all its outputs $x^{flow}_{b,o(b)}$\n",
    "\n",
    "$$\\sum_i x^{flow}_{i(b), b}(t) - \\sum_o x^{flow}_{b, o(b)}(t) = 0 \\qquad \\forall t \\in T, \\forall b \\in B$$\n",
    "\n",
    "This equation will be build once the complete energy system is setup with its components. Every time a `Component` is created, the connected bus inputs/outputs will be updated. By this update every bus has all required information of its inputs and outputs available to construct the constraints. \n"
   ]
  },
  {
   "cell_type": "markdown",
   "metadata": {},
   "source": [
    "### Load components"
   ]
  },
  {
   "cell_type": "markdown",
   "metadata": {},
   "source": [
    "#### Load Constraint \n",
    "\n",
    "For the set of all Load denoted with $l \\in L$ the load $x_l$ at timestep t equals the exogenously defined  profile value $c^{profile}_l$ multiplied by the amount of this load $c^{amount}_l$\n",
    "\n",
    "$$ x^{flow}_{l}(t) = c^{profile}_{l}(t) \\cdot c^{amount}_{l} \\qquad \\forall t \\in T, \\forall l \\in L$$"
   ]
  },
  {
   "cell_type": "code",
   "execution_count": 199,
   "metadata": {},
   "outputs": [
    {
     "name": "stderr",
     "output_type": "stream",
     "text": [
      "/home/admin/projects/oemof-barbados/barbados-env/lib/python3.7/site-packages/oemof/solph/network.py:250: SuspiciousUsageWarning: `Sink` 'el-load' constructed without `inputs`.\n",
      "  warn(msg.format(self), debugging.SuspiciousUsageWarning)\n",
      "/home/admin/projects/oemof-barbados/barbados-env/lib/python3.7/site-packages/oemof/solph/network.py:250: SuspiciousUsageWarning: `Sink` 'ev-load' constructed without `inputs`.\n",
      "  warn(msg.format(self), debugging.SuspiciousUsageWarning)\n",
      "/home/admin/projects/oemof-barbados/barbados-env/lib/python3.7/site-packages/oemof/solph/network.py:250: SuspiciousUsageWarning: `Sink` 'cruise-load' constructed without `inputs`.\n",
      "  warn(msg.format(self), debugging.SuspiciousUsageWarning)\n"
     ]
    }
   ],
   "source": [
    "for name, l in data[\"load\"].iterrows():\n",
    "    es.add(\n",
    "        fc.Load(\n",
    "            label=name,\n",
    "            bus=buses[\n",
    "                l.bus\n",
    "            ],  # reference the bus in the buses dictionary\n",
    "            amount=l.amount,  # amount column\n",
    "            profile=profiles[l.profile],\n",
    "        )\n",
    "    )\n"
   ]
  },
  {
   "cell_type": "markdown",
   "metadata": {},
   "source": [
    "### Dispatchable and Volatile component\n",
    "\n",
    "#### Dispatchable Generator Constraint\n",
    "\n",
    "A `Dispatachble` component can be used to model all types of dispatchble units in a energy system. This can include diesel generators oder coal fired power plants but also hot water boilers for heat. Every generator **must** be connected to an `Bus` object. \n",
    "\n",
    "This basic mathematical model for the component with the set of all dispatchable generators being $d \\in D$ looks as follows:\n",
    "\n",
    "$$x^{flow}_{d}(t) \\leq c^{capacity}_{d} \\qquad \\forall t \\in T,  \\forall d \\in D$$\n",
    "\n",
    "Meaning, the production of the generator $x^{flow}$ must be less than its maximum capacity $c^{capacity}_d$ in every timestep. *Note that this equation holds for the case where the `expandable` attribute is set to `False`*. For the investment case the following two equation hold:\n",
    "\n",
    "$$x^{flow}_{d}(t) \\leq x^{capacity}_{d} \\qquad \\forall t \\in T,  \\forall d \\in D$$\n",
    "$$c^{capacity}_d \\leq x^{capacity}_{d} \\leq c^{capacity\\_potential}_{d} \\forall d \\in D$$\n"
   ]
  },
  {
   "cell_type": "code",
   "execution_count": 200,
   "metadata": {},
   "outputs": [
    {
     "name": "stderr",
     "output_type": "stream",
     "text": [
      "/home/admin/projects/oemof-barbados/barbados-env/lib/python3.7/site-packages/oemof/solph/network.py:263: SuspiciousUsageWarning: `Source` 'hfo-lsce' constructed without `outputs`.\n",
      "  warn(msg.format(self), debugging.SuspiciousUsageWarning)\n",
      "/home/admin/projects/oemof-barbados/barbados-env/lib/python3.7/site-packages/oemof/solph/network.py:263: SuspiciousUsageWarning: `Source` 'hfo-msce' constructed without `outputs`.\n",
      "  warn(msg.format(self), debugging.SuspiciousUsageWarning)\n"
     ]
    }
   ],
   "source": [
    "\n",
    "for name, g in data[\"dispatchable\"].iterrows():\n",
    "    g = g.to_dict()\n",
    "    es.add(\n",
    "        fc.Dispatchable(\n",
    "            label=name,\n",
    "            bus=buses[g[\"bus\"]],\n",
    "            carrier=g[\"carrier\"],\n",
    "            tech=g[\"tech\"],\n",
    "            marginal_cost=_marginal_cost(g, tech_scenario, carrier_scenario),\n",
    "            expandable=g.get(\"expandable\", False),\n",
    "            capacity=g[\"capacity\"],\n",
    "            capacity_potential=None,\n",
    "            capacity_cost=_capacity_cost(g, tech_scenario),\n",
    "            output_parameters={\n",
    "                \"emission_factor\": (\n",
    "                    carrier.at[(g[\"carrier\"], carrier_scenario), \"emission_factor\"]\n",
    "                    / g[\"efficiency\"]\n",
    "                ),\n",
    "               \"summed_max\": technology.at[\n",
    "                    (g[\"carrier\"], g[\"tech\"], tech_scenario), \"avf\"\n",
    "                ] * 8760,\n",
    "            },\n",
    "        )\n",
    "    )"
   ]
  },
  {
   "cell_type": "markdown",
   "metadata": {},
   "source": [
    "#### Volatile Generator Constraint\n",
    "\n",
    "For the `Volatile` $v \\in V$ generators that can be used to model PV and Wind units the flow will be fixed by a given profile multiplied with the (optimised) capacity $x^{capacity}_{v}$ in the investment case and the exougenously defined capacity $c^{capacity}_{v}$ in the non-investment case (i.e. `expandable` attribute `False`). \n",
    "\n",
    "$$ x^{flow}_{v}(t) = c^{profile}_{v}(t) \\cdot x^{capacity}_{v} \\qquad \\forall t \\in T, \\forall v \\in V$$\n",
    "\n",
    "The optimised capacity is limited by the following variable bounds:\n",
    "\n",
    "$$c^{capacity}_v \\leq x^{capacity}_{v} \\leq c^{capacity\\_potential}_{v} \\forall v \\in V$$\n"
   ]
  },
  {
   "cell_type": "code",
   "execution_count": 201,
   "metadata": {},
   "outputs": [
    {
     "name": "stderr",
     "output_type": "stream",
     "text": [
      "/home/admin/projects/oemof-barbados/barbados-env/lib/python3.7/site-packages/oemof/solph/network.py:263: SuspiciousUsageWarning: `Source` 'solar-pv-distributed' constructed without `outputs`.\n",
      "  warn(msg.format(self), debugging.SuspiciousUsageWarning)\n",
      "/home/admin/projects/oemof-barbados/barbados-env/lib/python3.7/site-packages/oemof/solph/network.py:263: SuspiciousUsageWarning: `Source` 'solar-pv-utility' constructed without `outputs`.\n",
      "  warn(msg.format(self), debugging.SuspiciousUsageWarning)\n",
      "/home/admin/projects/oemof-barbados/barbados-env/lib/python3.7/site-packages/oemof/solph/network.py:263: SuspiciousUsageWarning: `Source` 'wind-onshore-1' constructed without `outputs`.\n",
      "  warn(msg.format(self), debugging.SuspiciousUsageWarning)\n",
      "/home/admin/projects/oemof-barbados/barbados-env/lib/python3.7/site-packages/oemof/solph/network.py:263: SuspiciousUsageWarning: `Source` 'wind-onshore-2' constructed without `outputs`.\n",
      "  warn(msg.format(self), debugging.SuspiciousUsageWarning)\n",
      "/home/admin/projects/oemof-barbados/barbados-env/lib/python3.7/site-packages/oemof/solph/network.py:263: SuspiciousUsageWarning: `Source` 'wind-onshore-3' constructed without `outputs`.\n",
      "  warn(msg.format(self), debugging.SuspiciousUsageWarning)\n",
      "/home/admin/projects/oemof-barbados/barbados-env/lib/python3.7/site-packages/oemof/solph/network.py:263: SuspiciousUsageWarning: `Source` 'wind-onshore-4' constructed without `outputs`.\n",
      "  warn(msg.format(self), debugging.SuspiciousUsageWarning)\n",
      "/home/admin/projects/oemof-barbados/barbados-env/lib/python3.7/site-packages/oemof/solph/network.py:263: SuspiciousUsageWarning: `Source` 'wind-onshore-5' constructed without `outputs`.\n",
      "  warn(msg.format(self), debugging.SuspiciousUsageWarning)\n",
      "/home/admin/projects/oemof-barbados/barbados-env/lib/python3.7/site-packages/oemof/solph/network.py:263: SuspiciousUsageWarning: `Source` 'wind-onshore-6' constructed without `outputs`.\n",
      "  warn(msg.format(self), debugging.SuspiciousUsageWarning)\n",
      "/home/admin/projects/oemof-barbados/barbados-env/lib/python3.7/site-packages/oemof/solph/network.py:263: SuspiciousUsageWarning: `Source` 'wind-onshore-7' constructed without `outputs`.\n",
      "  warn(msg.format(self), debugging.SuspiciousUsageWarning)\n"
     ]
    }
   ],
   "source": [
    "for name, v in data[\"volatile\"].iterrows():\n",
    "    es.add(\n",
    "        fc.Volatile(\n",
    "            label=name,\n",
    "            bus=buses[v.bus],\n",
    "            carrier=v.carrier,\n",
    "            tech=v.tech,\n",
    "            expandable=v.expandable,\n",
    "            capacity=v.capacity,\n",
    "            capacity_potential=v.capacity_potential,\n",
    "            capacity_cost=_capacity_cost(v, tech_scenario),\n",
    "            profile=profiles[v.profile],\n",
    "        )\n",
    "    )\n"
   ]
  },
  {
   "cell_type": "markdown",
   "metadata": {},
   "source": [
    "### Storage components"
   ]
  },
  {
   "cell_type": "code",
   "execution_count": 202,
   "metadata": {},
   "outputs": [],
   "source": [
    "for name, s in data[\"storage\"].iterrows():\n",
    "    s = s.to_dict()\n",
    "    es.add(\n",
    "        fc.Storage(\n",
    "            label=name,\n",
    "            bus=buses[s[\"bus\"]],\n",
    "            carrier=s[\"carrier\"],\n",
    "            tech=s[\"tech\"],\n",
    "            marginal_cost=s[\"marginal_cost\"],\n",
    "            capacity=s[\"capacity\"],\n",
    "            storage_capacity=s[\"storage_capacity\"],\n",
    "            storage_capacity_potential=s[\"storage_capacity_potential\"],\n",
    "            min_storage_level=s.get(\"min_storage_level\", 0),\n",
    "            expandable=s[\"expandable\"],\n",
    "            efficiency=s[\"efficiency\"],\n",
    "            loss_rate=s[\"loss_rate\"],\n",
    "            initial_storage_level=s[\"initial_storage_level\"],\n",
    "            invest_relation_output_capacity=_none(s.get(\"invest_relation_output_capacity\")),\n",
    "            invest_relation_input_capacity=_none(s.get(\"invest_relation_input_capacity\")),\n",
    "            storage_capacity_cost=annuity(\n",
    "                technology.at[\n",
    "                    (s[\"carrier\"], s[\"tech\"], tech_scenario), \"storage_capex\"\n",
    "                ],\n",
    "                technology.at[\n",
    "                    (s[\"carrier\"], s[\"tech\"], tech_scenario), \"lifetime\"\n",
    "                ],\n",
    "                 technology.at[\n",
    "                    (s[\"carrier\"], s[\"tech\"], tech_scenario), \"wacc\"\n",
    "                ],\n",
    "            )\n",
    "            * 1000,  # $/kW -> $/MW\n",
    "            capacity_cost=_capacity_cost(s, tech_scenario)\n",
    "    )\n",
    ")"
   ]
  },
  {
   "cell_type": "markdown",
   "metadata": {},
   "source": [
    "#### Storage Constraints \n",
    "\n",
    "The mathematical representation of the storage for all storages $s \\in S$ will include the flow into the storage, out of the storage and a storage level. The default efficiency for input/output is 1. Note that the provided efficiency is applied for charge and discharge. Hence, if you want to set the round trip efficiency you need to set $\\eta = \\sqrt{\\eta^{roundtrip}}$, where $\\eta$ is the efficiency provided to construct the component. \n",
    "\n",
    "Intertemporal energy balance of the storage:\n",
    "\n",
    "$$ x^{level}_{s}(t) = (1-\\eta^{loss\\_rate}) x^{level}_{s}(t) + \\eta_{in} x^{flow}_{s, in} - \\frac{x^{flow}_{s, out}(t)}{\\eta_{out}} \\qquad \\forall t \\in T,  \\forall s \\in S$$ \n",
    "\n",
    "Bounds of the storage level variable $x^{level}_s(t)$ with investment. The first and the last timestep are linked and set to a fixed value (e.g. 0.5 of the maximum storage capacity)\n",
    "\n",
    "$$ x^{level}_s(1) = x_s^{level}(t_{e}) = 0.5 \\cdot \\overline{x}_s^{level} \\qquad \\forall t \\in T,  \\forall s \\in S$$ \n",
    "\n",
    "Additionally, the level is bounded by the optimised storage capacity (energy) $\\overline{x}_s^{level}$:\n",
    "\n",
    "$$ x^{level}_s(t) \\leq \\overline{x}_s^{level} \\qquad \\forall t \\in T, \\forall s \\in S$$ \n",
    "\n",
    "The investment itself is limited by parameters of the existing storage capacity and its potential: \n",
    "\n",
    "$$ c_s^{storage\\_capacity} \\leq \\overline{x}_s^{level} \\leq c_s^{storage\\_capacity\\_potential} $$\n",
    "\n",
    "The inflow/outflow (i.e. power) of the storage also needs to be within the limit of the minimum and maximum power. \n",
    "\n",
    "$$ -x_s^{capacity} \\leq x^{flow}_s(t) \\leq x_s^{capacity} \\qquad \\forall t \\in T, \\forall s \\in S$$ \n",
    "\n",
    "The investment in capacity is again bounded. Similary to the bounds of the storage capacity it is limited by the existing capacity and the capacity potential.\n",
    "\n",
    "$$ c_s^{capacity} \\leq x_s^{capacity} \\leq c_s^{capacity\\_potential} $$\n",
    "\n"
   ]
  },
  {
   "cell_type": "markdown",
   "metadata": {},
   "source": [
    "### Conversion component\n",
    "\n",
    "A conversion unit will take from a bus and feed into another: \n",
    "\n",
    "$$x^{flow}_{c, to}(t) = c^{efficiencty}_{c} \\cdot x^{flow}_{c, from}(t), \\qquad \\forall c  \\in C, \\forall t \\in T$$ \n",
    "\n",
    "For the non-investment case the outflow, i.e. the flow **to** the bus where the conversion unit is connected with its output the following constraint applies:\n",
    "\n",
    "$$x^{flow}_{c, to} \\leq c^{capacity}_c$$\n",
    "\n",
    "In the case of investment compare constraints from the volatile generator units."
   ]
  },
  {
   "cell_type": "code",
   "execution_count": 203,
   "metadata": {},
   "outputs": [
    {
     "name": "stderr",
     "output_type": "stream",
     "text": [
      "/home/admin/projects/oemof-barbados/barbados-env/lib/python3.7/site-packages/oemof/solph/network.py:323: SuspiciousUsageWarning: `Transformer` 'bagasse-st' constructed without `inputs`.\n",
      "  warn(msg.format(self), debugging.SuspiciousUsageWarning)\n",
      "/home/admin/projects/oemof-barbados/barbados-env/lib/python3.7/site-packages/oemof/solph/network.py:326: SuspiciousUsageWarning: `Transformer` 'bagasse-st' constructed without `outputs`.\n",
      "  warn(msg.format(self), debugging.SuspiciousUsageWarning)\n",
      "/home/admin/projects/oemof-barbados/barbados-env/lib/python3.7/site-packages/oemof/solph/network.py:323: SuspiciousUsageWarning: `Transformer` 'waste-ocgt' constructed without `inputs`.\n",
      "  warn(msg.format(self), debugging.SuspiciousUsageWarning)\n",
      "/home/admin/projects/oemof-barbados/barbados-env/lib/python3.7/site-packages/oemof/solph/network.py:326: SuspiciousUsageWarning: `Transformer` 'waste-ocgt' constructed without `outputs`.\n",
      "  warn(msg.format(self), debugging.SuspiciousUsageWarning)\n"
     ]
    }
   ],
   "source": [
    "for name, c in data[\"conversion\"].iterrows():\n",
    "    es.add(\n",
    "        fc.Conversion(\n",
    "            label=name,\n",
    "            from_bus=buses[c.from_bus],\n",
    "            to_bus=buses[c.to_bus],\n",
    "            carrier=c.carrier,\n",
    "            tech=c.tech,\n",
    "            efficiency=c.efficiency,\n",
    "            marginal_cost=technology.at[\n",
    "                    (c[\"carrier\"], c[\"tech\"], tech_scenario), \"vom\"\n",
    "                ],\n",
    "            carrier_cost=carrier.at[(c.carrier, carrier_scenario), \"cost\"],\n",
    "            expandable=c.expandable,\n",
    "            capacity=c.capacity,\n",
    "            capacity_potential=c.capacity_potential,\n",
    "            capacity_cost=_capacity_cost(c, tech_scenario),\n",
    "            output_parameters={\n",
    "                \"emission_factor\": (\n",
    "                    carrier.at[(c.carrier, carrier_scenario), \"emission_factor\"]\n",
    "                    / c.efficiency)\n",
    "            },\n",
    "        )\n",
    "    )\n"
   ]
  },
  {
   "cell_type": "markdown",
   "metadata": {},
   "source": [
    "### Commodity components"
   ]
  },
  {
   "cell_type": "markdown",
   "metadata": {},
   "source": [
    "For the commodity components, the aggregated flow for the complete time horizon is limited by the user defined amount:\n",
    "$$ \\sum_t x^{flow}_k(t) \\leq c^{amount} \\qquad \\forall k \\in K$$"
   ]
  },
  {
   "cell_type": "code",
   "execution_count": 204,
   "metadata": {},
   "outputs": [
    {
     "name": "stderr",
     "output_type": "stream",
     "text": [
      "/home/admin/projects/oemof-barbados/barbados-env/lib/python3.7/site-packages/oemof/solph/network.py:263: SuspiciousUsageWarning: `Source` 'bagasse-commodity' constructed without `outputs`.\n",
      "  warn(msg.format(self), debugging.SuspiciousUsageWarning)\n",
      "/home/admin/projects/oemof-barbados/barbados-env/lib/python3.7/site-packages/oemof/solph/network.py:263: SuspiciousUsageWarning: `Source` 'waste-commodity' constructed without `outputs`.\n",
      "  warn(msg.format(self), debugging.SuspiciousUsageWarning)\n"
     ]
    }
   ],
   "source": [
    "for name, c in data[\"commodity\"].iterrows():\n",
    "    es.add(\n",
    "        fc.Commodity(\n",
    "            label=name,\n",
    "            bus=buses[c.bus],\n",
    "            carrier=c.carrier,\n",
    "            tech=c.tech,\n",
    "            amount=c.amount,\n",
    "        )\n",
    "    )\n"
   ]
  },
  {
   "cell_type": "markdown",
   "metadata": {},
   "source": [
    "### Link components\n",
    "\n",
    "The link components allows to model energy transfer from one bus to an other. For example transhipment modelling approach can be used for transmission in electricity systems. The equation for a line $n$ is considering a loss within the transfer process $from$ a bus $to$ the other bus.\n",
    "\n",
    "$$x^{flow}_{from, n}(t) = c^{loss}_{n} \\cdot x^{flow}_{n, to}(t), \\qquad \\forall n  \\in N, \\forall t \\in T$$"
   ]
  },
  {
   "cell_type": "code",
   "execution_count": 205,
   "metadata": {},
   "outputs": [],
   "source": [
    "for name, c in data[\"link\"].iterrows():\n",
    "    es.add(\n",
    "        fc.Link(\n",
    "            label=name,\n",
    "            from_bus=buses[c.from_bus],\n",
    "            to_bus=buses[c.to_bus],\n",
    "            capacity=c.capacity,\n",
    "            expandable=c.expandable,\n",
    "             capacity_cost=annuity(\n",
    "                technology.at[(c.carrier, c.tech, tech_scenario), \"capex\"],\n",
    "                technology.at[\n",
    "                    (c.carrier, c.tech, tech_scenario), \"lifetime\"\n",
    "                ],\n",
    "                technology.at[\n",
    "                    (c.carrier, c.tech, tech_scenario), \"wacc\"\n",
    "                ],\n",
    "            )\n",
    "            * 1000,  # $/kW -> $/MW\n",
    "            loss=c.loss\n",
    "        )\n",
    "    )"
   ]
  },
  {
   "cell_type": "markdown",
   "metadata": {},
   "source": [
    "### Objective Function \n",
    "\n",
    "The objective function is created from all instantiated objects. It will use all operating costs (i.e. `marginal_cost` argument) and if set all investment costs (i.e. `capacity_cost` argument) for all generators (dispatchable and volatile, conversion units and storages). In addition the energy related storage costs are added.  \n",
    "\n",
    "$$ \\text{min:} \\sum_g \\sum_t \\overbrace{c^{marginal\\_cost}_g \\cdot x^{flow}_{g}(t)}^{\\text{operating cost}} \\\\ \n",
    "\\sum_g \\sum_t \\overbrace{c^{capacity\\_cost}_g \\cdot x^{capacity}_{g}(t)}^{\\text{investment cost}} + \\\\\n",
    "\\sum_s \\overbrace{c^{storage\\_capacity\\_cost}_s \\cdot \\overline{x}^{storage\\_capacity}_{s}(t)}^{\\text{storage energy cost}}$$"
   ]
  },
  {
   "cell_type": "markdown",
   "metadata": {},
   "source": [
    "### Add Shortage/Excess Slack Components\n",
    "\n",
    "If these are added, additional cost will occur inside the objective function. Shortage / Excess can be understood as a very expensive generator or load repectively. "
   ]
  },
  {
   "cell_type": "code",
   "execution_count": 206,
   "metadata": {},
   "outputs": [
    {
     "name": "stderr",
     "output_type": "stream",
     "text": [
      "/home/admin/projects/oemof-barbados/barbados-env/lib/python3.7/site-packages/oemof/solph/network.py:250: SuspiciousUsageWarning: `Sink` 'el-excess' constructed without `inputs`.\n",
      "  warn(msg.format(self), debugging.SuspiciousUsageWarning)\n"
     ]
    }
   ],
   "source": [
    "for name, e in data[\"excess\"].iterrows():\n",
    "    es.add(fc.Excess(label=name, bus=buses[e.bus]))\n",
    "\n",
    "\n",
    "for name, s in data[\"shortage\"].iterrows():\n",
    "    es.add(\n",
    "        fc.Shortage(\n",
    "            label=name,\n",
    "            carrier=\"electricity\",\n",
    "            tech=\"shortage\",\n",
    "            bus=buses[s.bus],\n",
    "            marginal_cost=s.marginal_cost,\n",
    "        )\n",
    "    )\n"
   ]
  },
  {
   "cell_type": "markdown",
   "metadata": {},
   "source": [
    "## Creating the Mathematical Model"
   ]
  },
  {
   "cell_type": "code",
   "execution_count": 207,
   "metadata": {},
   "outputs": [],
   "source": [
    "# create model based on energy system and its components\n",
    "m = Model(es)"
   ]
  },
  {
   "cell_type": "markdown",
   "metadata": {},
   "source": [
    "### Add CO2 Constraint\n",
    "\n",
    "To add a CO2-constraint we will use the `oemof.solph.constraints` module which allows to add such a constraint in a easy way. \n",
    "\n",
    "$$ \\sum_t \\sum_f  x^{flow}_f(t) \\cdot c^{emission\\_factor}_f \\leq \\overline{L_{CO_2}} $$\n",
    "\n",
    "The constraint will sum all flows for the complete time horzion that have an attribute `emission_factor` and multiple the flow value with this factor. "
   ]
  },
  {
   "cell_type": "code",
   "execution_count": 208,
   "metadata": {},
   "outputs": [],
   "source": [
    "if co2_limit is not None:\n",
    "    constraints.generic_integral_limit(\n",
    "        m, keyword='emission_factor', \n",
    "        limit=co2_limit.loc[\"BB-electricity\", \"value\"])\n",
    "#m.write(io_options={\"symbolic_solver_labels\":True})"
   ]
  },
  {
   "cell_type": "code",
   "execution_count": 209,
   "metadata": {},
   "outputs": [],
   "source": [
    "peak_demand = pd.concat([n.amount * n.profile for n in  es.nodes if isinstance(n, fc.Load)]).max()\n",
    "\n",
    "def _excess_energy_limit(m):\n",
    "    lhs = sum(m.flow[es.groups[\"BB-electricity\"], es.groups[\"el-excess\"], t] for t in m.TIMESTEPS)\n",
    "    rhs = data[\"load\"][\"amount\"].sum()\n",
    "    return (lhs <= rhs * 0.1)\n",
    "m.excess_energy_limit = po.Constraint(rule=_excess_energy_limit) \n",
    "\n",
    "def _excess_power_limit(m, t):\n",
    "    lhs = m.flow[es.groups[\"BB-electricity\"], es.groups[\"el-excess\"], t]\n",
    "    rhs = peak_demand\n",
    "    return (lhs <= rhs)\n",
    "m.excess_power_limit = po.Constraint(m.TIMESTEPS, rule=_excess_power_limit) "
   ]
  },
  {
   "cell_type": "code",
   "execution_count": 210,
   "metadata": {},
   "outputs": [],
   "source": [
    "dispatchable = [(i,o) for i,o in m.flows if isinstance(i, fc.Dispatchable) and not isinstance(i, fc.Shortage)] # all dispatchable are fossil\n",
    "#conversion = [(i,o) for i,o in m.flows if isinstance(o, fc.Conversion)] \n",
    "demand = [(i,o) for i,o in m.flows if isinstance(o, fc.Load)]"
   ]
  },
  {
   "cell_type": "code",
   "execution_count": 211,
   "metadata": {},
   "outputs": [
    {
     "name": "stderr",
     "output_type": "stream",
     "text": [
      "WARNING:pyomo.core:Reassigning the non-component attribute dual\n",
      "on block (model).Model with a new Component\n",
      "with type <class 'pyomo.core.base.suffix.Suffix'>.\n",
      "This is usually indicative of a modelling error.\n",
      "To avoid this warning, explicitly delete the attribute:\n",
      "    del Model.dual\n",
      "WARNING:pyomo.core:Reassigning the non-component attribute rc\n",
      "on block (model).Model with a new Component\n",
      "with type <class 'pyomo.core.base.suffix.Suffix'>.\n",
      "This is usually indicative of a modelling error.\n",
      "To avoid this warning, explicitly delete the attribute:\n",
      "    del Model.rc\n"
     ]
    },
    {
     "name": "stdout",
     "output_type": "stream",
     "text": [
      "WARNING: Reassigning the non-component attribute dual on block (model).Model\n",
      "    with a new Component with type <class 'pyomo.core.base.suffix.Suffix'>.\n",
      "    This is usually indicative of a modelling error. To avoid this warning,\n",
      "    explicitly delete the attribute:\n",
      "        del Model.dual\n",
      "WARNING: Reassigning the non-component attribute rc on block (model).Model\n",
      "    with a new Component with type <class 'pyomo.core.base.suffix.Suffix'>.\n",
      "    This is usually indicative of a modelling error. To avoid this warning,\n",
      "    explicitly delete the attribute:\n",
      "        del Model.rc\n"
     ]
    }
   ],
   "source": [
    "m.receive_duals()"
   ]
  },
  {
   "cell_type": "code",
   "execution_count": 212,
   "metadata": {},
   "outputs": [],
   "source": [
    "if True:\n",
    "    # minimise conventional supply \n",
    "    m.del_component(\"objective\")        \n",
    "    m.objective =po.Objective(expr=sum(m.flow[i, o, t] for i,o in dispatchable for t in m.TIMESTEPS))"
   ]
  },
  {
   "cell_type": "markdown",
   "metadata": {},
   "source": [
    "## Solving the Model and Writing Results"
   ]
  },
  {
   "cell_type": "code",
   "execution_count": 213,
   "metadata": {},
   "outputs": [
    {
     "name": "stdout",
     "output_type": "stream",
     "text": [
      "Optimization done. Results are in /home/admin/oemof-results/barbados.\n"
     ]
    }
   ],
   "source": [
    "# check if cbc solver library is available\n",
    "cbc = SolverFactory('cbc').available()\n",
    "\n",
    "if cbc:\n",
    "    #  solve the model using cbc solver\n",
    "    m.solve(\"gurobi\")\n",
    "\n",
    "    # write results back to the model object\n",
    "    m.results = m.results()\n",
    "    \n",
    "    # writing results with the standard oemof-tabular output formatt\n",
    "    pp.write_results(m, m.results, scenario_path)\n",
    "    \n",
    "    _write_investment_cost(scenario_path)\n",
    "    \n",
    "    if co2_limit is not None:\n",
    "        pd.Series(\n",
    "            [(m.integral_limit_emission_factor_constraint() / 1e6), \n",
    "             m.dual[m.integral_limit_emission_factor_constraint], \n",
    "             m.objective()],\n",
    "            index=[\"CO2 (Mio. t)\", \"Shadow Price in $/t\", \"Objective value\"]\n",
    "        ).to_csv(os.path.join(scenario_path, \"costs.csv\"))\n",
    "    else: \n",
    "        pd.Series(\n",
    "            [m.objective()],\n",
    "            index=[\"Objective value\"]\n",
    "        ).to_csv(os.path.join(scenario_path, \"costs.csv\"))\n",
    "    \n",
    "    print(\n",
    "        \"Optimization done. Results are in {}.\".format(\n",
    "            results_path\n",
    "        )\n",
    "    )"
   ]
  },
  {
   "cell_type": "code",
   "execution_count": 214,
   "metadata": {},
   "outputs": [
    {
     "name": "stdout",
     "output_type": "stream",
     "text": [
      "Maximum RE share in scenario ELEC is 0.9645493277428048.\n"
     ]
    }
   ],
   "source": [
    "max_share= 1- m.objective() / pd.concat([n.amount * n.profile for n in  es.nodes if isinstance(n, fc.Load)]).sum()\n",
    "print(\n",
    "        \"Maximum RE share in scenario {0} is {1}.\".format(\n",
    "            scenario, max_share\n",
    "        )\n",
    "    )"
   ]
  },
  {
   "cell_type": "code",
   "execution_count": 215,
   "metadata": {},
   "outputs": [
    {
     "data": {
      "text/plain": [
       "61857.443670926004"
      ]
     },
     "execution_count": 215,
     "metadata": {},
     "output_type": "execute_result"
    }
   ],
   "source": [
    "m.objective()"
   ]
  },
  {
   "cell_type": "markdown",
   "metadata": {},
   "source": [
    "### Print CO2-results"
   ]
  },
  {
   "cell_type": "code",
   "execution_count": 140,
   "metadata": {},
   "outputs": [
    {
     "name": "stdout",
     "output_type": "stream",
     "text": [
      "Emissions in Mio t: 0.0\n",
      "Shadow price of CO2: 0.0\n"
     ]
    }
   ],
   "source": [
    "if co2_limit is not None:\n",
    "    print(\"Emissions in Mio t: \" + str(m.integral_limit_emission_factor_constraint() / 1e6))\n",
    "    print(\"Shadow price of CO2: \" + str(m.dual[m.integral_limit_emission_factor_constraint]))"
   ]
  },
  {
   "cell_type": "markdown",
   "metadata": {},
   "source": [
    "## Optional sensitivity calculations\n",
    "\n",
    "To use this, adapt to your needs. "
   ]
  },
  {
   "cell_type": "code",
   "execution_count": 114,
   "metadata": {},
   "outputs": [],
   "source": [
    "if False:\n",
    "    #co2_base = m.integral_limit_emission_factor_constraint() # take as base for emissions\n",
    "    sensitivities = [0.95] # 0.95 <=> 95% RE share\n",
    "    for sensitivity in sensitivities:\n",
    "        sensitivity_path = scenario_path + (\"-\" + str(int(sensitivity * 100)))\n",
    "        \n",
    "        if not os.path.exists(sensitivity_path):\n",
    "            os.makedirs(sensitivity_path)\n",
    "        \n",
    "        m = Model(es)\n",
    "        \n",
    "        m.excess_energy_limit = po.Constraint(rule=_excess_energy_limit) \n",
    "        m.excess_power_limit = po.Constraint(m.TIMESTEPS, rule=_excess_power_limit) \n",
    "    \n",
    "        \n",
    "        def _re_share(m):\n",
    "            lhs = sum(m.flow[i, o, t] for i,o in dispatchable for t in m.TIMESTEPS)\n",
    "            rhs = sum(m.flow[i, o, t] for i,o in demand for t in m.TIMESTEPS)\n",
    "            return (lhs <= (1 - sensitivity) * rhs)\n",
    "        m.renewable_share = po.Constraint(rule=_re_share)  \n",
    "        \n",
    "        #constraints.generic_integral_limit(\n",
    "        #    m, keyword='emission_factor', \n",
    "        #    limit=sensitivity * co2_base)\n",
    "        \n",
    "        m.receive_duals()\n",
    "\n",
    "        m.solve(\"gurobi\")\n",
    "\n",
    "        m.results = m.results()\n",
    "\n",
    "        pp.write_results(m, m.results, sensitivity_path)\n",
    "        \n",
    "        _write_investment_cost(sensitivity_path)\n",
    "        \n",
    "        pd.Series(\n",
    "            [m.objective()],\n",
    "            index=[\"Objective value\"]\n",
    "        ).to_csv(os.path.join(sensitivity_path, \"costs.csv\"))\n",
    "            \n",
    "        #pd.Series(\n",
    "        #    [(m.integral_limit_emission_factor_constraint() / 1e6), \n",
    "        #     m.dual[m.integral_limit_emission_factor_constraint], \n",
    "        #     m.objective()],\n",
    "        #    index=[\"CO2 (Mio. t)\", \"Shadow Price in $/t\", \"Objective value\"]\n",
    "        #).to_csv(os.path.join(sensitivity_path, \"costs.csv))"
   ]
  },
  {
   "cell_type": "markdown",
   "metadata": {},
   "source": [
    "## Visualization"
   ]
  },
  {
   "cell_type": "markdown",
   "metadata": {},
   "source": [
    "### Installed capacities"
   ]
  },
  {
   "cell_type": "code",
   "execution_count": 50,
   "metadata": {},
   "outputs": [],
   "source": [
    "scenario_path = sensitivity_path"
   ]
  },
  {
   "cell_type": "code",
   "execution_count": 141,
   "metadata": {},
   "outputs": [
    {
     "data": {
      "text/plain": [
       "Text(0, 0.5, 'Installed capacity in MW')"
      ]
     },
     "execution_count": 141,
     "metadata": {},
     "output_type": "execute_result"
    },
    {
     "data": {
      "image/png": "[encoded data removed]",
      "text/plain": [
       "<Figure size 432x288 with 1 Axes>"
      ]
     },
     "metadata": {
      "needs_background": "light"
     },
     "output_type": "display_data"
    }
   ],
   "source": [
    "capacities = pd.read_csv(os.path.join(scenario_path, \"capacities.csv\"), index_col=[0,1,2,3,4])\n",
    "ax = capacities.xs((\"BB-electricity\", \"invest\"), level=[1,2]).droplevel([1,2]).plot(kind=\"bar\", rot=90)\n",
    "ax.set_xlabel(\"Technology\")\n",
    "ax.set_ylabel(\"Installed capacity in MW\")"
   ]
  },
  {
   "cell_type": "code",
   "execution_count": 79,
   "metadata": {},
   "outputs": [
    {
     "data": {
      "text/plain": [
       "Text(0.5, 0, 'Hour of the year')"
      ]
     },
     "execution_count": 79,
     "metadata": {},
     "output_type": "execute_result"
    },
    {
     "data": {
      "image/png": "[encoded data removed]",
      "text/plain": [
       "<Figure size 432x288 with 1 Axes>"
      ]
     },
     "metadata": {
      "needs_background": "light"
     },
     "output_type": "display_data"
    }
   ],
   "source": [
    "filling = pd.read_csv(os.path.join(scenario_path, \"filling_levels.csv\"), index_col=[0], parse_dates=True)\n",
    "ax = filling.plot()\n",
    "ax.set_ylabel(\"Energy in MWh\")\n",
    "ax.set_xlabel(\"Hour of the year\")"
   ]
  },
  {
   "cell_type": "code",
   "execution_count": 80,
   "metadata": {},
   "outputs": [
    {
     "data": {
      "text/plain": [
       "Text(0, 0.5, 'Technology')"
      ]
     },
     "execution_count": 80,
     "metadata": {},
     "output_type": "execute_result"
    },
    {
     "data": {
      "image/png": "[encoded data removed]",
      "text/plain": [
       "<Figure size 432x288 with 1 Axes>"
      ]
     },
     "metadata": {
      "needs_background": "light"
     },
     "output_type": "display_data"
    }
   ],
   "source": [
    "balance = pd.read_csv(os.path.join(scenario_path, \"BB-electricity.csv\"), index_col=[0], parse_dates=True)\n",
    "ax = (balance.sum() / 1e3).plot(kind=\"barh\",rot=0)\n",
    "ax.set_xlabel(\"Enegy in Gwh\")\n",
    "ax.set_ylabel(\"Technology\")"
   ]
  },
  {
   "cell_type": "code",
   "execution_count": 38,
   "metadata": {},
   "outputs": [
    {
     "name": "stdout",
     "output_type": "stream",
     "text": [
      "Renewable energy share is 93.97 %\n"
     ]
    }
   ],
   "source": [
    "sums = balance.sum() / 1e6\n",
    "\n",
    "re_share = (\n",
    "    sums[[i for i in all_components.index if \"onshore\" in i]].sum() + \n",
    "    sums[[i for i in all_components.index if \"pv\" in i]].sum() + \n",
    "    sums[\"bagasse-st\"] - \n",
    "    sums[\"el-excess\"]\n",
    "    ) / sums[[i for i in all_components.index if \"load\" in i]].sum()\n",
    "print(\"Renewable energy share is {} %\".format(100 * round(re_share,4)))"
   ]
  },
  {
   "cell_type": "markdown",
   "metadata": {},
   "source": [
    "### LCOE"
   ]
  },
  {
   "cell_type": "code",
   "execution_count": 39,
   "metadata": {},
   "outputs": [
    {
     "name": "stdout",
     "output_type": "stream",
     "text": [
      "LCOE are 261.614 BBD/kWh\n"
     ]
    }
   ],
   "source": [
    "lcoe = (\n",
    "    m.objective() / (\n",
    "        (sums[[i for i in all_components.index if \"load\" in i]].sum()\n",
    "         - sums[\"el-excess\"]) * 1e6))\n",
    "print(\"LCOE are {} BBD/kWh\".format(round(lcoe / 1000, 3)))"
   ]
  },
  {
   "cell_type": "markdown",
   "metadata": {},
   "source": [
    "### Capacity factors"
   ]
  },
  {
   "cell_type": "code",
   "execution_count": 31,
   "metadata": {},
   "outputs": [
    {
     "data": {
      "text/plain": [
       "<matplotlib.axes._subplots.AxesSubplot at 0x7f4b0c693510>"
      ]
     },
     "execution_count": 31,
     "metadata": {},
     "output_type": "execute_result"
    },
    {
     "data": {
      "image/png": "[encoded data removed]",
      "text/plain": [
       "<Figure size 432x288 with 1 Axes>"
      ]
     },
     "metadata": {
      "needs_background": "light"
     },
     "output_type": "display_data"
    }
   ],
   "source": [
    "build = capacities.xs((\"BB-electricity\", \"invest\"), level=[1,2]).droplevel([1,2])\n",
    "(balance.sum()[build.index] / (build * 8760)[\"value\"]).plot(kind=\"bar\")"
   ]
  },
  {
   "cell_type": "code",
   "execution_count": null,
   "metadata": {},
   "outputs": [],
   "source": []
  }
 ],
 "metadata": {
  "@webio": {
   "lastCommId": null,
   "lastKernelId": null
  },
  "kernelspec": {
   "display_name": "barbabos-env",
   "language": "python",
   "name": "barbabos-env"
  },
  "language_info": {
   "codemirror_mode": {
    "name": "ipython",
    "version": 3
   },
   "file_extension": ".py",
   "mimetype": "text/x-python",
   "name": "python",
   "nbconvert_exporter": "python",
   "pygments_lexer": "ipython3",
   "version": "3.7.4"
  }
 },
 "nbformat": 4,
 "nbformat_minor": 2
}
